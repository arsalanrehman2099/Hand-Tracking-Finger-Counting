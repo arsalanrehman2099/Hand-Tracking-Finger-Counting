{
 "cells": [
  {
   "cell_type": "markdown",
   "metadata": {},
   "source": [
    "# Fingers Count Algorithm"
   ]
  },
  {
   "cell_type": "code",
   "execution_count": 1,
   "metadata": {},
   "outputs": [],
   "source": [
    "import os\n",
    "import cv2\n",
    "import mediapipe as mp"
   ]
  },
  {
   "cell_type": "code",
   "execution_count": 2,
   "metadata": {},
   "outputs": [
    {
     "name": "stdout",
     "output_type": "stream",
     "text": [
      "['1.png', '2.png', '3.png', '4.png', '5.png', '6.png']\n"
     ]
    }
   ],
   "source": [
    "folderPath = \"FingerImages\"\n",
    "myList = os.listdir(folderPath)\n",
    "print(myList)\n",
    "overlayList = []\n",
    "for imPath in myList:\n",
    "    image = cv2.imread(f'{folderPath}/{imPath}')\n",
    "    # print(f'{folderPath}/{imPath}')\n",
    "    overlayList.append(image)"
   ]
  },
  {
   "cell_type": "code",
   "execution_count": 14,
   "metadata": {},
   "outputs": [],
   "source": [
    "cap = cv2.VideoCapture(0)\n",
    "wCam, hCam = 640, 480\n",
    "cap.set(3, wCam)\n",
    "cap.set(4, hCam)\n",
    "\n",
    "mpHands = mp.solutions.hands\n",
    "hands = mpHands.Hands()\n",
    "mpDraw = mp.solutions.drawing_utils\n",
    "\n",
    "\n",
    "while True:\n",
    "    \n",
    "    totalFingers = 0\n",
    "    lmList = {}\n",
    "    \n",
    "    success,img = cap.read()\n",
    "    imgRGB = cv2.cvtColor(img,cv2.COLOR_BGR2RGB)\n",
    "    results = hands.process(imgRGB)\n",
    "    \n",
    "    if results.multi_hand_landmarks:\n",
    "        for handLms in results.multi_hand_landmarks:\n",
    "            for id,lm in enumerate(handLms.landmark):\n",
    "                h,w,c = img.shape\n",
    "                cx,cy = int(lm.x*w), int(lm.y*h) \n",
    "                # id, cx, cy will help in certain scenario\n",
    "                lmList[id] = {'cx':cx,'cy':cy}\n",
    "                \n",
    "            mpDraw.draw_landmarks(img,handLms,mpHands.HAND_CONNECTIONS)\n",
    "    \n",
    "    \n",
    "    #CHECK ALL FINGERS\n",
    "    if len(lmList) != 0:\n",
    "        \n",
    "        if lmList[20]['cy'] < lmList[18]['cy']:\n",
    "            totalFingers = totalFingers + 1\n",
    "\n",
    "        if lmList[16]['cy'] < lmList[14]['cy']:\n",
    "            totalFingers = totalFingers + 1\n",
    "      \n",
    "        if lmList[12]['cy'] < lmList[10]['cy']:\n",
    "            totalFingers = totalFingers + 1\n",
    "     \n",
    "        if lmList[8]['cy'] < lmList[6]['cy']:\n",
    "            totalFingers = totalFingers + 1\n",
    "        \n",
    "        if lmList[4]['cx'] < lmList[2]['cx']:\n",
    "            totalFingers = totalFingers + 1\n",
    "          \n",
    "        h, w, c = overlayList[totalFingers - 1].shape\n",
    "        img[0:h, 0:w] = overlayList[totalFingers - 1]\n",
    "\n",
    "        cv2.rectangle(img, (20, 275), (170, 475), (0, 255, 0), cv2.FILLED)\n",
    "        cv2.putText(img, str(totalFingers), (45, 425), cv2.FONT_HERSHEY_PLAIN,10, (255, 0, 0), 25)\n",
    "\n",
    "    cv2.imshow('Image',img)\n",
    " \n",
    "    \n",
    "    if cv2.waitKey(1) & 0xff == ord('q'):\n",
    "        break\n",
    "        \n",
    "cap.release()\n",
    "cv2.destroyAllWindows()"
   ]
  },
  {
   "cell_type": "code",
   "execution_count": 15,
   "metadata": {},
   "outputs": [
    {
     "data": {
      "text/plain": [
       "True"
      ]
     },
     "execution_count": 15,
     "metadata": {},
     "output_type": "execute_result"
    }
   ],
   "source": [
    "cv2.imwrite('0.jpg',img)"
   ]
  },
  {
   "cell_type": "code",
   "execution_count": null,
   "metadata": {},
   "outputs": [],
   "source": []
  },
  {
   "cell_type": "code",
   "execution_count": null,
   "metadata": {},
   "outputs": [],
   "source": []
  }
 ],
 "metadata": {
  "kernelspec": {
   "display_name": "Python 3",
   "language": "python",
   "name": "python3"
  },
  "language_info": {
   "codemirror_mode": {
    "name": "ipython",
    "version": 3
   },
   "file_extension": ".py",
   "mimetype": "text/x-python",
   "name": "python",
   "nbconvert_exporter": "python",
   "pygments_lexer": "ipython3",
   "version": "3.8.3"
  }
 },
 "nbformat": 4,
 "nbformat_minor": 4
}
